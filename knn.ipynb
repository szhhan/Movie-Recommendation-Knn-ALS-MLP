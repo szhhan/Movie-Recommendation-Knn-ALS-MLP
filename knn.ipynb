{
 "cells": [
  {
   "cell_type": "code",
   "execution_count": 1,
   "metadata": {},
   "outputs": [
    {
     "name": "stderr",
     "output_type": "stream",
     "text": [
      "/Users/sizhenhan/anaconda3/lib/python3.7/site-packages/fuzzywuzzy/fuzz.py:11: UserWarning: Using slow pure-python SequenceMatcher. Install python-Levenshtein to remove this warning\n",
      "  warnings.warn('Using slow pure-python SequenceMatcher. Install python-Levenshtein to remove this warning')\n"
     ]
    }
   ],
   "source": [
    "import pandas as pd\n",
    "import matplotlib.pyplot as plt\n",
    "import numpy as np\n",
    "from sklearn.neighbors import NearestNeighbors\n",
    "from knn import load, match, recommend, prepare"
   ]
  },
  {
   "cell_type": "code",
   "execution_count": 2,
   "metadata": {},
   "outputs": [
    {
     "name": "stdout",
     "output_type": "stream",
     "text": [
      "Movies:\n",
      "   movieId                               title\n",
      "0        1                    Toy Story (1995)\n",
      "1        2                      Jumanji (1995)\n",
      "2        3             Grumpier Old Men (1995)\n",
      "3        4            Waiting to Exhale (1995)\n",
      "4        5  Father of the Bride Part II (1995)\n",
      "Ratings\n",
      "      userId  movieId  rating   timestamp\n",
      "1118      14        2     4.0  1522101105\n",
      "1135      14     1882     3.0  1522096642\n",
      "1137      14     1917     3.5  1522101098\n",
      "1142      14     2720     3.5  1522096585\n",
      "1166      14     6534     3.0  1522096619\n",
      "There are 35438 unique users and 47306 unique movies in this data set\n"
     ]
    }
   ],
   "source": [
    "df_movies, df_ratings = load('movies.csv','ratings.csv',1466677221)"
   ]
  },
  {
   "cell_type": "code",
   "execution_count": 3,
   "metadata": {},
   "outputs": [
    {
     "data": {
      "image/png": "[encoded data removed]",
      "text/plain": [
       "<Figure size 432x288 with 1 Axes>"
      ]
     },
     "metadata": {
      "needs_background": "light"
     },
     "output_type": "display_data"
    }
   ],
   "source": [
    "ratings_count = pd.DataFrame(df_ratings.groupby('rating').size(), columns=['count'])\n",
    "ratings = ratings_count[['count']].reset_index().rename(columns={'index': 'rating'})\n",
    "plt.bar(ratings['rating'],ratings['count'])\n",
    "plt.xlabel('Scores')\n",
    "plt.ylabel('Number')\n",
    "\n",
    "plt.title('Count for each rating score')\n",
    "\n",
    "plt.show()"
   ]
  },
  {
   "cell_type": "code",
   "execution_count": 4,
   "metadata": {},
   "outputs": [],
   "source": [
    "mat_sparse, movies = prepare(df_movies, df_ratings)"
   ]
  },
  {
   "cell_type": "code",
   "execution_count": 5,
   "metadata": {},
   "outputs": [
    {
     "data": {
      "text/plain": [
       "NearestNeighbors(algorithm='brute', leaf_size=30, metric='cosine',\n",
       "                 metric_params=None, n_jobs=-1, n_neighbors=20, p=2,\n",
       "                 radius=1.0)"
      ]
     },
     "execution_count": 5,
     "metadata": {},
     "output_type": "execute_result"
    }
   ],
   "source": [
    "knn = NearestNeighbors(metric='cosine', algorithm='brute', n_neighbors=20, n_jobs=-1)\n",
    "knn.fit(mat_sparse)"
   ]
  },
  {
   "cell_type": "code",
   "execution_count": 6,
   "metadata": {},
   "outputs": [
    {
     "name": "stdout",
     "output_type": "stream",
     "text": [
      "Your choice: ['The Hunger Games (2012)', 'The Hungover Games (2014)']\n",
      "\n",
      "Recommendations for Hunger Game:\n",
      "Rank: 1: The Hunger Games: Catching Fire (2013)\n",
      "Rank: 2: The Hunger Games: Mockingjay - Part 1 (2014)\n",
      "Rank: 3: The Hunger Games: Mockingjay - Part 2 (2015)\n",
      "Rank: 4: Harry Potter and the Deathly Hallows: Part 2 (2011)\n",
      "Rank: 5: Harry Potter and the Deathly Hallows: Part 1 (2010)\n",
      "Rank: 6: Avatar (2009)\n",
      "Rank: 7: Avengers, The (2012)\n",
      "Rank: 8: Harry Potter and the Half-Blood Prince (2009)\n",
      "Rank: 9: Harry Potter and the Goblet of Fire (2005)\n",
      "Rank: 10: Harry Potter and the Prisoner of Azkaban (2004)\n"
     ]
    }
   ],
   "source": [
    "recommend(knn,mat_sparse,movies,fav='Hunger Game',n=10)"
   ]
  },
  {
   "cell_type": "code",
   "execution_count": null,
   "metadata": {},
   "outputs": [],
   "source": []
  }
 ],
 "metadata": {
  "kernelspec": {
   "display_name": "Python 3",
   "language": "python",
   "name": "python3"
  },
  "language_info": {
   "codemirror_mode": {
    "name": "ipython",
    "version": 3
   },
   "file_extension": ".py",
   "mimetype": "text/x-python",
   "name": "python",
   "nbconvert_exporter": "python",
   "pygments_lexer": "ipython3",
   "version": "3.7.3"
  }
 },
 "nbformat": 4,
 "nbformat_minor": 2
}
