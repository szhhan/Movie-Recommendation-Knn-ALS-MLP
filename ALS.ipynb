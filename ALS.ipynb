{
 "cells": [
  {
   "cell_type": "code",
   "execution_count": 11,
   "metadata": {},
   "outputs": [],
   "source": [
    "from pyspark.sql import SparkSession\n",
    "from pyspark.sql.functions import UserDefinedFunction, explode, desc\n",
    "from pyspark.sql.types import StringType, ArrayType\n",
    "from pyspark.mllib.recommendation import ALS\n",
    "import time\n",
    "import math\n",
    "from als import train_ALS, recommendation"
   ]
  },
  {
   "cell_type": "code",
   "execution_count": 2,
   "metadata": {},
   "outputs": [],
   "source": [
    "spark = SparkSession \\\n",
    "    .builder \\\n",
    "    .appName(\"movie recommendation\") \\\n",
    "    .config(\"spark.driver.maxResultSize\", \"96g\") \\\n",
    "    .config(\"spark.driver.memory\", \"96g\") \\\n",
    "    .config(\"spark.executor.memory\", \"8g\") \\\n",
    "    .config(\"spark.master\", \"local[12]\") \\\n",
    "    .getOrCreate()\n",
    "# get spark context\n",
    "sc = spark.sparkContext"
   ]
  },
  {
   "cell_type": "code",
   "execution_count": 3,
   "metadata": {},
   "outputs": [],
   "source": [
    "movies = spark.read.load('movies.csv', format='csv', header=True, inferSchema=True)\n",
    "ratings = spark.read.load('ratings.csv', format='csv', header=True, inferSchema=True)\n",
    "links = spark.read.load('links.csv', format='csv', header=True, inferSchema=True)\n",
    "tags = spark.read.load('tags.csv', format='csv', header=True, inferSchema=True)"
   ]
  },
  {
   "cell_type": "code",
   "execution_count": 6,
   "metadata": {},
   "outputs": [
    {
     "name": "stdout",
     "output_type": "stream",
     "text": [
      "+-------+--------------------+--------------------+\n",
      "|movieId|               title|              genres|\n",
      "+-------+--------------------+--------------------+\n",
      "|      1|    Toy Story (1995)|Adventure|Animati...|\n",
      "|      2|      Jumanji (1995)|Adventure|Childre...|\n",
      "|      3|Grumpier Old Men ...|      Comedy|Romance|\n",
      "|      4|Waiting to Exhale...|Comedy|Drama|Romance|\n",
      "|      5|Father of the Bri...|              Comedy|\n",
      "+-------+--------------------+--------------------+\n",
      "only showing top 5 rows\n",
      "\n"
     ]
    }
   ],
   "source": [
    "movies.show(5)"
   ]
  },
  {
   "cell_type": "code",
   "execution_count": 7,
   "metadata": {},
   "outputs": [
    {
     "name": "stdout",
     "output_type": "stream",
     "text": [
      "Distinct values of ratings:\n",
      "[0.5, 1.0, 1.5, 2.0, 2.5, 3.0, 3.5, 4.0, 4.5, 5.0]\n"
     ]
    }
   ],
   "source": [
    "print('Distinct values of ratings:')\n",
    "print(sorted(ratings.select('rating').distinct().rdd.map(lambda r: r[0]).collect()))"
   ]
  },
  {
   "cell_type": "code",
   "execution_count": 8,
   "metadata": {},
   "outputs": [
    {
     "name": "stdout",
     "output_type": "stream",
     "text": [
      "For the users that rated movies and the movies that were rated:\n",
      "Minimum number of ratings per user is 1\n",
      "Minimum number of ratings per movie is 1\n"
     ]
    }
   ],
   "source": [
    "tmp1 = ratings.groupBy(\"userID\").count().toPandas()['count'].min()\n",
    "tmp2 = ratings.groupBy(\"movieId\").count().toPandas()['count'].min()\n",
    "print('For the users that rated movies and the movies that were rated:')\n",
    "print('Minimum number of ratings per user is {}'.format(tmp1))\n",
    "print('Minimum number of ratings per movie is {}'.format(tmp2))"
   ]
  },
  {
   "cell_type": "code",
   "execution_count": 9,
   "metadata": {},
   "outputs": [
    {
     "name": "stdout",
     "output_type": "stream",
     "text": [
      "10155 out of 53889 movies are rated by only one user\n"
     ]
    }
   ],
   "source": [
    "tmp1 = sum(ratings.groupBy(\"movieId\").count().toPandas()['count'] == 1)\n",
    "tmp2 = ratings.select('movieId').distinct().count()\n",
    "print('{} out of {} movies are rated by only one user'.format(tmp1, tmp2))"
   ]
  },
  {
   "cell_type": "code",
   "execution_count": 10,
   "metadata": {},
   "outputs": [
    {
     "name": "stdout",
     "output_type": "stream",
     "text": [
      "We have a total of 53889 distinct movies that are rated by users in ratings table\n",
      "We have 4209 movies that are not rated yet\n"
     ]
    }
   ],
   "source": [
    "tmp1 = movies.select('movieID').distinct().count()\n",
    "tmp2 = ratings.select('movieID').distinct().count()\n",
    "print('We have a total of {} distinct movies that are rated by users in ratings table'.format(tmp2))\n",
    "print('We have {} movies that are not rated yet'.format(tmp1-tmp2))"
   ]
  },
  {
   "cell_type": "code",
   "execution_count": 11,
   "metadata": {},
   "outputs": [
    {
     "name": "stdout",
     "output_type": "stream",
     "text": [
      "List movies that are not rated yet: \n",
      "+-------+--------------------+\n",
      "|movieId|               title|\n",
      "+-------+--------------------+\n",
      "|  25817|Break of Hearts (...|\n",
      "|  26361|Baby Blue Marine ...|\n",
      "|  27153|Can't Be Heaven (...|\n",
      "|  27433|        Bark! (2002)|\n",
      "|  31945|Always a Bridesma...|\n",
      "|  52696|Thousand and One ...|\n",
      "|  58209|Alex in Wonder (S...|\n",
      "|  60234|   Shock, The (1923)|\n",
      "|  69565|Bling: A Planet R...|\n",
      "|  69834|       Agency (1980)|\n",
      "+-------+--------------------+\n",
      "only showing top 10 rows\n",
      "\n"
     ]
    }
   ],
   "source": [
    "movies.createOrReplaceTempView(\"movies\")\n",
    "ratings.createOrReplaceTempView(\"ratings\")\n",
    "print('List movies that are not rated yet: ')\n",
    "spark.sql(\n",
    "    \"SELECT movieId, title \"\n",
    "    \"FROM movies \"\n",
    "    \"WHERE movieId NOT IN (SELECT distinct(movieId) FROM ratings)\"\n",
    ").show(10)"
   ]
  },
  {
   "cell_type": "code",
   "execution_count": 13,
   "metadata": {},
   "outputs": [
    {
     "name": "stdout",
     "output_type": "stream",
     "text": [
      "Counts of movies per genre\n",
      "+------------------+-----+\n",
      "|            genres|count|\n",
      "+------------------+-----+\n",
      "|             Drama|24144|\n",
      "|            Comedy|15956|\n",
      "|          Thriller| 8216|\n",
      "|           Romance| 7412|\n",
      "|            Action| 7130|\n",
      "|            Horror| 5555|\n",
      "|       Documentary| 5118|\n",
      "|             Crime| 5105|\n",
      "|(no genres listed)| 4266|\n",
      "|         Adventure| 4067|\n",
      "|            Sci-Fi| 3444|\n",
      "|           Mystery| 2773|\n",
      "|          Children| 2749|\n",
      "|         Animation| 2663|\n",
      "|           Fantasy| 2637|\n",
      "|               War| 1820|\n",
      "|           Western| 1378|\n",
      "|           Musical| 1113|\n",
      "|         Film-Noir|  364|\n",
      "|              IMAX|  197|\n",
      "+------------------+-----+\n",
      "\n"
     ]
    }
   ],
   "source": [
    "print('Counts of movies per genre')\n",
    "splitter = UserDefinedFunction(lambda x: x.split('|'), ArrayType(StringType()))\n",
    "movies.select('movieID', explode(splitter(\"genres\")).alias(\"genres\")) \\\n",
    "    .groupby('genres') \\\n",
    "    .count() \\\n",
    "    .sort(desc('count')) \\\n",
    "    .show()"
   ]
  },
  {
   "cell_type": "code",
   "execution_count": 12,
   "metadata": {},
   "outputs": [
    {
     "data": {
      "text/plain": [
       "[(13, 204, 5.0),\n",
       " (13, 216, 4.0),\n",
       " (13, 362, 4.0),\n",
       " (13, 720, 4.0),\n",
       " (13, 838, 3.5)]"
      ]
     },
     "execution_count": 12,
     "metadata": {},
     "output_type": "execute_result"
    }
   ],
   "source": [
    "rating = sc.textFile('ratings.csv')\n",
    "head = rating.take(1)[0]\n",
    "ratings = rating.filter(lambda x: x!=head).map(lambda x: x.split(\",\")).filter(lambda x: int(x[3]) > 1366677221).map(\n",
    "    lambda x: (int(x[0]), int(x[1]), float(x[2]))).cache()\n",
    "\n",
    "ratings.take(5)"
   ]
  },
  {
   "cell_type": "code",
   "execution_count": 13,
   "metadata": {},
   "outputs": [
    {
     "data": {
      "text/plain": [
       "PythonRDD[293] at RDD at PythonRDD.scala:53"
      ]
     },
     "execution_count": 13,
     "metadata": {},
     "output_type": "execute_result"
    }
   ],
   "source": [
    "train, valid, test = ratings.randomSplit([7, 2, 1], seed=42)\n",
    "\n",
    "train.cache()\n",
    "valid.cache()\n",
    "test.cache()"
   ]
  },
  {
   "cell_type": "code",
   "execution_count": 18,
   "metadata": {},
   "outputs": [
    {
     "name": "stdout",
     "output_type": "stream",
     "text": [
      "8 latent factors and regularization = 0.001: validation RMSE is 0.9043014519077007\n",
      "8 latent factors and regularization = 0.01: validation RMSE is 0.8293024842044121\n",
      "8 latent factors and regularization = 0.05: validation RMSE is 0.802750217604632\n",
      "8 latent factors and regularization = 0.1: validation RMSE is 0.8102747314409071\n",
      "8 latent factors and regularization = 0.2: validation RMSE is 0.8574665846463414\n",
      "10 latent factors and regularization = 0.001: validation RMSE is 0.9127782733639884\n",
      "10 latent factors and regularization = 0.01: validation RMSE is 0.826914767146492\n",
      "10 latent factors and regularization = 0.05: validation RMSE is 0.796888229507744\n",
      "10 latent factors and regularization = 0.1: validation RMSE is 0.8035750643905293\n",
      "10 latent factors and regularization = 0.2: validation RMSE is 0.8538400389066517\n",
      "12 latent factors and regularization = 0.001: validation RMSE is 0.9239643918401101\n",
      "12 latent factors and regularization = 0.01: validation RMSE is 0.8288236826156852\n",
      "12 latent factors and regularization = 0.05: validation RMSE is 0.7939398872103592\n",
      "12 latent factors and regularization = 0.1: validation RMSE is 0.8045767393977781\n",
      "12 latent factors and regularization = 0.2: validation RMSE is 0.8567713875576679\n",
      "14 latent factors and regularization = 0.001: validation RMSE is 0.9334296992997881\n",
      "14 latent factors and regularization = 0.01: validation RMSE is 0.8330542707050499\n",
      "14 latent factors and regularization = 0.05: validation RMSE is 0.7908419487415966\n",
      "14 latent factors and regularization = 0.1: validation RMSE is 0.8029743460253641\n",
      "14 latent factors and regularization = 0.2: validation RMSE is 0.8569934404478105\n",
      "16 latent factors and regularization = 0.001: validation RMSE is 0.9506998731799149\n",
      "16 latent factors and regularization = 0.01: validation RMSE is 0.8338196309587252\n",
      "16 latent factors and regularization = 0.05: validation RMSE is 0.7889365202864306\n",
      "16 latent factors and regularization = 0.1: validation RMSE is 0.8029365810358822\n",
      "16 latent factors and regularization = 0.2: validation RMSE is 0.8564704975796117\n",
      "18 latent factors and regularization = 0.001: validation RMSE is 0.9535848733923655\n",
      "18 latent factors and regularization = 0.01: validation RMSE is 0.8362638609273204\n",
      "18 latent factors and regularization = 0.05: validation RMSE is 0.7881396268078823\n",
      "18 latent factors and regularization = 0.1: validation RMSE is 0.8027722517748903\n",
      "18 latent factors and regularization = 0.2: validation RMSE is 0.8570174239896243\n",
      "20 latent factors and regularization = 0.001: validation RMSE is 0.9665862653910442\n",
      "20 latent factors and regularization = 0.01: validation RMSE is 0.8411247297800899\n",
      "20 latent factors and regularization = 0.05: validation RMSE is 0.787793232759302\n",
      "20 latent factors and regularization = 0.1: validation RMSE is 0.8044997132420683\n",
      "20 latent factors and regularization = 0.2: validation RMSE is 0.8584380936074832\n",
      "\n",
      "The best model has 20 latent factors and regularization = 0.05\n",
      "Total Runtime: 1310.61 seconds\n"
     ]
    }
   ],
   "source": [
    "ranks = [8, 10, 12, 14, 16, 18, 20]\n",
    "regs = [0.001, 0.01, 0.05, 0.1, 0.2]\n",
    "\n",
    "start_time = time.time()\n",
    "final_model = train_ALS(train, valid, 10, regs, ranks)\n",
    "\n",
    "print ('Total Runtime: {:.2f} seconds'.format(time.time() - start_time))"
   ]
  },
  {
   "cell_type": "code",
   "execution_count": 20,
   "metadata": {},
   "outputs": [
    {
     "name": "stdout",
     "output_type": "stream",
     "text": [
      "The out-of-sample RMSE of rating predictions is 0.7864\n"
     ]
    }
   ],
   "source": [
    "test_d = test.map(lambda p: (p[0], p[1]))\n",
    "pred_t = final_model.predictAll(test_d).map(lambda x: ((x[0], x[1]), x[2]))\n",
    "combine_t = test.map(lambda x: ((x[0], x[1]), x[2])).join(pred_t)\n",
    "\n",
    "MSE_test = combine_t.map(lambda x: (x[1][0] - x[1][1])**2).mean()\n",
    "err_test = math.sqrt(MSE_test)\n",
    "print('The out-of-sample RMSE of rating predictions is', round(err_test, 4))"
   ]
  },
  {
   "cell_type": "code",
   "execution_count": 42,
   "metadata": {},
   "outputs": [
    {
     "name": "stdout",
     "output_type": "stream",
     "text": [
      "Recommendations for Iron Man:\n",
      "1: Nobody Will Speak of Us When We're Dead (Nadie hablará de nosotras cuando hayamos muerto) (1995)\n",
      "2: Went the Day Well? (1942)\n",
      "3: Harakiri (1919)\n",
      "4: 24 City (Er shi si cheng ji) (2008)\n",
      "5: Dinosaur Island (1994)\n",
      "6: Future My Love (2012)\n",
      "7: A martfüi rém (2016)\n",
      "8: Countdown (2004)\n",
      "9: Rumble: The Indians Who Rocked the World (2017)\n",
      "10: Whitney Cummings: Money Shot (2010)\n"
     ]
    }
   ],
   "source": [
    "favorites = ['Hunger Game','Harry Porter','Iron Man']\n",
    "\n",
    "recommends = recommendation(\n",
    "    model_best_params={'iterations': 10, 'rank': 20, 'lambda_': 0.05}, \n",
    "    ratings=ratings, \n",
    "    movies=movies, \n",
    "    favs=favorites, \n",
    "    n=10, \n",
    "    spark_context=sc)\n",
    "\n",
    "print('Recommendations for {}:'.format(my_favorite_movies[0]))\n",
    "for i, title in enumerate(recommends):\n",
    "    print('{0}: {1}'.format(i+1, title))"
   ]
  },
  {
   "cell_type": "code",
   "execution_count": 28,
   "metadata": {},
   "outputs": [
    {
     "data": {
      "text/plain": [
       "[]"
      ]
     },
     "execution_count": 28,
     "metadata": {},
     "output_type": "execute_result"
    }
   ],
   "source": [
    "recommends"
   ]
  },
  {
   "cell_type": "code",
   "execution_count": null,
   "metadata": {},
   "outputs": [],
   "source": []
  }
 ],
 "metadata": {
  "kernelspec": {
   "display_name": "Python 3",
   "language": "python",
   "name": "python3"
  },
  "language_info": {
   "codemirror_mode": {
    "name": "ipython",
    "version": 3
   },
   "file_extension": ".py",
   "mimetype": "text/x-python",
   "name": "python",
   "nbconvert_exporter": "python",
   "pygments_lexer": "ipython3",
   "version": "3.7.3"
  }
 },
 "nbformat": 4,
 "nbformat_minor": 2
}
